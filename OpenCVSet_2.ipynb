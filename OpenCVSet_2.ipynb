{
 "cells": [
  {
   "cell_type": "code",
   "execution_count": 2,
   "metadata": {},
   "outputs": [],
   "source": [
    "%config IPCompleter.greedy=True #Allows autocompletion by tab button\n",
    "\n",
    "import numpy as np\n",
    "import cv2\n",
    "from matplotlib import pyplot as plt\n",
    "%matplotlib inline "
   ]
  },
  {
   "cell_type": "markdown",
   "metadata": {},
   "source": [
    "#### Binary Images and Segmentation"
   ]
  },
  {
   "cell_type": "code",
   "execution_count": 8,
   "metadata": {},
   "outputs": [
    {
     "name": "stdout",
     "output_type": "stream",
     "text": [
      "Overwriting segmentationBlob.py\n"
     ]
    }
   ],
   "source": [
    "%%writefile segmentationBlob.py\n",
    "\n",
    "import numpy as np\n",
    "import cv2\n",
    "\n",
    "bw = cv2.imread('inputs/detect_blob.png', 0)\n",
    "height, width = bw.shape[0:2]\n",
    "cv2.imshow(\"Original BW\",bw)\n",
    "\n",
    "binary = np.zeros([height,width,1],'uint8')\n",
    "\n",
    "thresh = 85\n",
    "# the Slow way to threshold an image\n",
    "for row in range(0,height):\n",
    "\tfor col in range(0, width):\n",
    "\t\tif bw[row][col]>thresh:\n",
    "\t\t\tbinary[row][col]=255\n",
    "\n",
    "cv2.imshow(\"Slow Binary\",binary)\n",
    "\n",
    "#the Faster way to threshold an image \n",
    "ret, thresh = cv2.threshold(bw,thresh,255,cv2.THRESH_BINARY)\n",
    "cv2.imshow(\"CV Threshold\",thresh)\n",
    "\n",
    "cv2.waitKey(0)\n",
    "cv2.destroyAllWindows()"
   ]
  },
  {
   "cell_type": "code",
   "execution_count": 9,
   "metadata": {},
   "outputs": [],
   "source": [
    "%run segmentationBlob.py"
   ]
  },
  {
   "cell_type": "markdown",
   "metadata": {},
   "source": [
    "#### Adaptive Thresholding"
   ]
  },
  {
   "cell_type": "code",
   "execution_count": 10,
   "metadata": {},
   "outputs": [
    {
     "name": "stdout",
     "output_type": "stream",
     "text": [
      "Writing segmentationAdaptive.py\n"
     ]
    }
   ],
   "source": [
    "%%writefile segmentationAdaptive.py\n",
    "import numpy as np\n",
    "import cv2\n",
    "\n",
    "img = cv2.imread('inputs/sudoku.png',0)\n",
    "cv2.imshow(\"Original\",img)\n",
    "\n",
    "ret, thresh_basic = cv2.threshold(img,70,255,cv2.THRESH_BINARY)\n",
    "cv2.imshow(\"Basic Binary\",thresh_basic)\n",
    "\n",
    "thres_adapt = cv2.adaptiveThreshold(img, 255, cv2.ADAPTIVE_THRESH_GAUSSIAN_C, cv2.THRESH_BINARY, 115, 1)\n",
    "cv2.imshow(\"Adaptive Threshold\",thres_adapt)\n",
    "\n",
    "cv2.waitKey(0)\n",
    "cv2.destroyAllWindows()"
   ]
  },
  {
   "cell_type": "code",
   "execution_count": 11,
   "metadata": {},
   "outputs": [],
   "source": [
    "%run segmentationAdaptive.py"
   ]
  },
  {
   "cell_type": "markdown",
   "metadata": {},
   "source": [
    "#### Skin Detection"
   ]
  },
  {
   "cell_type": "code",
   "execution_count": 15,
   "metadata": {},
   "outputs": [
    {
     "name": "stdout",
     "output_type": "stream",
     "text": [
      "Overwriting skinDetection.py\n"
     ]
    }
   ],
   "source": [
    "%%writefile skinDetection.py\n",
    "import numpy as np\n",
    "import cv2\n",
    "\n",
    "img = cv2.imread('inputs/faces.jpeg',1)\n",
    "hsv = cv2.cvtColor(img, cv2.COLOR_BGR2HSV)\n",
    "h = hsv[:,:,0]\n",
    "s = hsv[:,:,1]\n",
    "v = hsv[:,:,2]\n",
    "\n",
    "hsv_split = np.concatenate((h,s,v), axis=1)\n",
    "cv2.imshow(\"Split HSV\",hsv_split)\n",
    "\n",
    "ret, min_sat = cv2.threshold(s,40,255, cv2.THRESH_BINARY)\n",
    "cv2.imshow(\"Sat Filter\",min_sat)\n",
    "\n",
    "ret, max_hue = cv2.threshold(h,15, 255, cv2.THRESH_BINARY_INV)\n",
    "cv2.imshow(\"Hue Filter\",max_hue)\n",
    "\n",
    "final = cv2.bitwise_and(min_sat,max_hue)\n",
    "cv2.imshow(\"Final\",final)\n",
    "cv2.imshow(\"Original\",img)\n",
    "\n",
    "cv2.waitKey(0)\n",
    "cv2.destroyAllWindows()\n"
   ]
  },
  {
   "cell_type": "code",
   "execution_count": 13,
   "metadata": {},
   "outputs": [],
   "source": [
    "%run skinDetection.py"
   ]
  },
  {
   "cell_type": "markdown",
   "metadata": {},
   "source": [
    "#### Introduction to Contours object detection"
   ]
  },
  {
   "cell_type": "code",
   "execution_count": 4,
   "metadata": {},
   "outputs": [
    {
     "data": {
      "text/plain": [
       "Text(0.5,1,'Contours')"
      ]
     },
     "execution_count": 4,
     "metadata": {},
     "output_type": "execute_result"
    },
    {
     "data": {
      "text/plain": [
       "<Figure size 432x288 with 0 Axes>"
      ]
     },
     "metadata": {},
     "output_type": "display_data"
    },
    {
     "data": {
      "image/png": "[encoded data removed]",
      "text/plain": [
       "<Figure size 432x288 with 1 Axes>"
      ]
     },
     "metadata": {},
     "output_type": "display_data"
    }
   ],
   "source": [
    "#%%writefile contourObjectDetection.py\n",
    "#import numpy as np\n",
    "#import cv2\n",
    "\n",
    "img = cv2.imread('inputs/detect_blob.png',1)\n",
    "gray = cv2.cvtColor(img, cv2.COLOR_RGB2GRAY)\n",
    "thresh = cv2.adaptiveThreshold(gray, 255, cv2.ADAPTIVE_THRESH_GAUSSIAN_C, cv2.THRESH_BINARY, 115, 1)\n",
    "plt.figure()\n",
    "cv2.imwrite(\"outputs/BinaryBlob.png\",thresh)\n",
    "\n",
    "\n",
    "_, contours, hierarchy = cv2.findContours(thresh, cv2.RETR_TREE, cv2.CHAIN_APPROX_SIMPLE)\n",
    "\n",
    "img2 = img.copy()\n",
    "index = -1\n",
    "thickness = 4\n",
    "color = (255, 0, 255)\n",
    "\n",
    "cv2.drawContours(img2, contours, index, color, thickness)\n",
    "plt.figure()\n",
    "plt.imshow(img2)\n",
    "plt.title(\"Contours\")\n",
    "#cv2.waitKey(0)\n",
    "#cv2.destroyAllWindows()\n"
   ]
  },
  {
   "cell_type": "markdown",
   "metadata": {},
   "source": [
    "#### Area, Perimeters, centre, and curvature"
   ]
  },
  {
   "cell_type": "code",
   "execution_count": 6,
   "metadata": {},
   "outputs": [
    {
     "name": "stdout",
     "output_type": "stream",
     "text": [
      "Area: 86.5, perimeter: 45.5563489199\n",
      "Area: 959.5, perimeter: 251.840619683\n",
      "Area: 13091.5, perimeter: 754.041630149\n",
      "Area: 10069.5, perimeter: 401.414213538\n",
      "Area: 7780.0, perimeter: 329.220344305\n",
      "Area: 4160.0, perimeter: 258.0\n",
      "Area: 1672.0, perimeter: 160.485281229\n",
      "Area: 14515.0, perimeter: 1225.76867533\n",
      "Area: 6357.0, perimeter: 446.911687255\n",
      "Area: 7718.0, perimeter: 484.828427076\n",
      "Area: 4592.5, perimeter: 502.031526327\n",
      "Area: 5014.0, perimeter: 357.279218316\n",
      "Area: 5019.0, perimeter: 444.367530823\n",
      "Area: 8829.0, perimeter: 450.592926383\n",
      "Area: 108.0, perimeter: 41.7989895344\n",
      "Area: 551.5, perimeter: 93.4142135382\n",
      "Area: 2707.5, perimeter: 194.752307653\n",
      "Area: 1644.5, perimeter: 152.124890447\n",
      "Area: 767.0, perimeter: 105.740114331\n",
      "Area: 3501.5, perimeter: 251.071067691\n",
      "Area: 8556.0, perimeter: 345.705624938\n",
      "Area: 8868.0, perimeter: 378.828427076\n",
      "Area: 865.0, perimeter: 185.455843568\n",
      "Area: 1482.0, perimeter: 244.166520357\n",
      "Area: 747.0, perimeter: 102.911687255\n",
      "Area: 1638.0, perimeter: 152.367530346\n",
      "Area: 1.0, perimeter: 4114.82842708\n"
     ]
    },
    {
     "data": {
      "text/plain": [
       "Text(0.5,1,'Contours')"
      ]
     },
     "execution_count": 6,
     "metadata": {},
     "output_type": "execute_result"
    },
    {
     "data": {
      "image/png": "[encoded data removed]",
      "text/plain": [
       "<Figure size 432x288 with 1 Axes>"
      ]
     },
     "metadata": {},
     "output_type": "display_data"
    }
   ],
   "source": [
    "import numpy as np\n",
    "import cv2\n",
    "\n",
    "img = cv2.imread('inputs/detect_blob.png',1)\n",
    "gray = cv2.cvtColor(img, cv2.COLOR_RGB2GRAY)\n",
    "thresh = cv2.adaptiveThreshold(gray, 255, cv2.ADAPTIVE_THRESH_GAUSSIAN_C, cv2.THRESH_BINARY, 115, 1)\n",
    "\n",
    "\n",
    "_, contours, hierarchy = cv2.findContours(thresh, cv2.RETR_TREE, cv2.CHAIN_APPROX_SIMPLE)\n",
    "\n",
    "img2 = img.copy()\n",
    "index = -1\n",
    "thickness = 4\n",
    "color = (255, 0, 255)\n",
    "\n",
    "objects = np.zeros([img.shape[0], img.shape[1],3], 'uint8')\n",
    "for c in contours:\n",
    "    cv2.drawContours(objects, [c], -1, color, -1)\n",
    "\n",
    "    area = cv2.contourArea(c)\n",
    "    perimeter = cv2.arcLength(c, True)\n",
    "    \n",
    "    M = cv2.moments(c)\n",
    "    cx = int( M['m10']/M['m00'])\n",
    "    cy = int( M['m01']/M['m00'])\n",
    "    cv2.circle(objects, (cx,cy), 4, (255,255,255), -1)\n",
    "\n",
    "    print(\"Area: {}, perimeter: {}\".format(area,perimeter))\n",
    "plt.figure()\n",
    "plt.imshow(objects)\n",
    "plt.title(\"Contours\")\n",
    "\n"
   ]
  },
  {
   "cell_type": "markdown",
   "metadata": {},
   "source": [
    "#### Canny Edge detection"
   ]
  },
  {
   "cell_type": "code",
   "execution_count": 13,
   "metadata": {},
   "outputs": [
    {
     "name": "stdout",
     "output_type": "stream",
     "text": [
      "Overwriting CannyEdgeExample.py\n"
     ]
    }
   ],
   "source": [
    "%%writefile CannyEdgeExample.py\n",
    "\n",
    "import numpy as np\n",
    "import cv2\n",
    "\n",
    "img = cv2.imread(\"inputs/tomatoes.jpg\",1)\n",
    "\n",
    "hsv = cv2.cvtColor(img, cv2.COLOR_BGR2HSV)\n",
    "res,thresh = cv2.threshold(hsv[:,:,0], 25, 255, cv2.THRESH_BINARY_INV)\n",
    "cv2.imshow(\"Thresh\",thresh)\n",
    "\n",
    "#Canny Edge Detector\n",
    "edges = cv2.Canny(img, 100, 70)\n",
    "cv2.imshow(\"Canny\",edges)\n",
    "\n",
    "cv2.waitKey(0)\n",
    "cv2.destroyAllWindows()"
   ]
  },
  {
   "cell_type": "code",
   "execution_count": 12,
   "metadata": {},
   "outputs": [],
   "source": [
    "%run CannyEdgeExample.py"
   ]
  },
  {
   "cell_type": "markdown",
   "metadata": {},
   "source": [
    "#### Overall Object Detection\n",
    "##### Assign object ID and Attributes"
   ]
  },
  {
   "cell_type": "code",
   "execution_count": 14,
   "metadata": {},
   "outputs": [
    {
     "name": "stdout",
     "output_type": "stream",
     "text": [
      "Writing DetectObjectandAttr.py\n"
     ]
    }
   ],
   "source": [
    "%%writefile DetectObjectandAttr.py\n",
    "\n",
    "\n",
    "import numpy as np\n",
    "import cv2\n",
    "import random\n",
    "\n",
    "img = cv2.imread(\"inputs/fuzzy.png\",1)\n",
    "cv2.imshow(\"Original\",img)\n",
    "\n",
    "gray = cv2.cvtColor(img,cv2.COLOR_BGR2GRAY)\n",
    "blur = cv2.GaussianBlur(gray, (3,3),0)\n",
    "\n",
    "thresh = cv2.adaptiveThreshold(blur, 255, cv2.ADAPTIVE_THRESH_GAUSSIAN_C, cv2.THRESH_BINARY_INV, 205, 1)\n",
    "cv2.imshow(\"Binary\",thresh)\n",
    "\n",
    "_, contours, _ = cv2.findContours(thresh, cv2.RETR_TREE, cv2.CHAIN_APPROX_SIMPLE)\n",
    "print(len(contours))\n",
    "\n",
    "filtered = []\n",
    "for c in contours:\n",
    "\tif cv2.contourArea(c) < 1000:continue\n",
    "\tfiltered.append(c)\n",
    "\n",
    "print(len(filtered))\n",
    "\n",
    "objects = np.zeros([img.shape[0],img.shape[1],3], 'uint8')\n",
    "for c in filtered:\n",
    "\tcol = (random.randint(0,255), random.randint(0,255), random.randint(0,255))\n",
    "\tcv2.drawContours(objects,[c], -1, col, -1)\n",
    "\tarea = cv2.contourArea(c)\n",
    "\tp = cv2.arcLength(c,True)\n",
    "\tprint(area,p)\n",
    "\n",
    "cv2.imshow(\"Contours\",objects)\n",
    "\t\n",
    "\n",
    "cv2.waitKey(0)\n",
    "cv2.destroyAllWindows()"
   ]
  },
  {
   "cell_type": "code",
   "execution_count": 15,
   "metadata": {},
   "outputs": [
    {
     "name": "stdout",
     "output_type": "stream",
     "text": [
      "2053\n",
      "4\n",
      "(4926.0, 298.2253956794739)\n",
      "(29882.0, 795.3868639469147)\n",
      "(1038.0, 645.0681030750275)\n",
      "(17250.0, 585.0782079696655)\n"
     ]
    }
   ],
   "source": [
    "%run DetectObjectandAttr.py"
   ]
  }
 ],
 "metadata": {
  "kernelspec": {
   "display_name": "Python 2",
   "language": "python",
   "name": "python2"
  },
  "language_info": {
   "codemirror_mode": {
    "name": "ipython",
    "version": 2
   },
   "file_extension": ".py",
   "mimetype": "text/x-python",
   "name": "python",
   "nbconvert_exporter": "python",
   "pygments_lexer": "ipython2",
   "version": "2.7.15"
  }
 },
 "nbformat": 4,
 "nbformat_minor": 2
}
